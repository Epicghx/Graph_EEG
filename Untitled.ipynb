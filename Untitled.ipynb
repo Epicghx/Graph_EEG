{
 "cells": [
  {
   "cell_type": "code",
   "execution_count": 50,
   "metadata": {},
   "outputs": [
    {
     "name": "stdout",
     "output_type": "stream",
     "text": [
      "/Users/epic/File/code/Graph_EEG\r\n"
     ]
    }
   ],
   "source": [
    "import numpy as np\n",
    "import os\n",
    "import scipy.io as sio\n",
    "!pwd"
   ]
  },
  {
   "cell_type": "code",
   "execution_count": 51,
   "metadata": {},
   "outputs": [],
   "source": [
    "data_path = './Data/SEED/'\n",
    "label = {1: [2, 1, 0, 0, 1, 2, 0, 1, 2, 2, 1, 0, 1, 2, 0],\n",
    "         2: [2, 1, 0, 0, 1, 2, 0, 1, 2, 2, 1, 0, 1, 2, 0],\n",
    "         3: [2, 1, 0, 0, 1, 2, 0, 1, 2, 2, 1, 0, 1, 2, 0]}\n",
    "\n",
    "trails = 15"
   ]
  },
  {
   "cell_type": "code",
   "execution_count": 52,
   "metadata": {},
   "outputs": [],
   "source": [
    "\n",
    "def SD_process(subject, session, label):\n",
    "    skip_set = {'label.mat', 'readme.txt'}\n",
    "    dir = data_path + str(session) + '/'\n",
    "    file = os.listdir(dir)\n",
    "    subfile_path = [i for i in file if i not in skip_set if subject == int(i.split('_')[0])][0]\n",
    "    feature = 'de_LDS{}'\n",
    "    Train_Data, Test_Data, Train_Label, Test_Label = [], [], [], []\n",
    "    # split_value = int(self.trails * 2/3)\n",
    "    data = sio.loadmat(dir + subfile_path)\n",
    "    session_label = label[session]\n",
    "    test_list = []\n",
    "    for i in np.unique(session_label):\n",
    "        test_list.append(np.where(session_label == i)[0].tolist()[-2:])\n",
    "    test_list = sum(test_list, [])\n",
    "\n",
    "    for trail in range(1, 16):\n",
    "        de_LDS = data[feature.format(trail)]\n",
    "        label = session_label[trail - 1]\n",
    "        if trail-1 not in test_list:\n",
    "            Train_Data.append(de_LDS)\n",
    "            Train_Label.append([label] * np.size(de_LDS, 1))\n",
    "        else:\n",
    "            Test_Data.append(de_LDS)\n",
    "            Test_Label.append([label] * np.size(de_LDS, 1))\n",
    "\n",
    "    Train_Data = np.concatenate(Train_Data, axis=1).transpose([1, 0, 2])\n",
    "    Test_Data = np.concatenate(Test_Data, axis=1).transpose([1, 0, 2])\n",
    "    All_Data = np.vstack((Train_Data, Test_Data))\n",
    "#     for i in range(5):\n",
    "#         mean_value = np.mean(Train_Data[:,:,i])\n",
    "#         All_Data[:,:,i] = 2 * (All_Data[:,:,i] - mean_value) / mean_value\n",
    "    Train_Data = All_Data[:2010, :, :]\n",
    "    Test_Data = All_Data[2010:, :, :]\n",
    "    Train_Label = np.concatenate(Train_Label, axis=0).reshape(-1, 1).astype(int)\n",
    "    Test_Label = np.concatenate(Test_Label, axis=0).reshape(-1, 1).astype(int)\n",
    "    \n",
    "    return Train_Data, Test_Data, Train_Label, Test_Label"
   ]
  },
  {
   "cell_type": "code",
   "execution_count": 53,
   "metadata": {},
   "outputs": [],
   "source": [
    "import os, glob\n",
    "import shutil\n",
    "file = os.listdir('./Data/SEED/Preprocessed_EEG/')\n",
    "file = [f for f in file if '_' in f]\n",
    "file.sort()\n",
    "del(file[0])\n",
    "# for i in range(0, 45, 3):\n",
    "#     shutil.move('./Data/SEED/Preprocessed_EEG/'+file[i], './Data/SEED/Preprocessed_EEG/1/')\n",
    "#     shutil.move('./Data/SEED/Preprocessed_EEG/'+file[i+1], './Data/SEED/Preprocessed_EEG/2/')\n",
    "#     shutil.move('./Data/SEED/Preprocessed_EEG/'+file[i+2], './Data/SEED/Preprocessed_EEG/3/')"
   ]
  },
  {
   "cell_type": "code",
   "execution_count": 54,
   "metadata": {
    "scrolled": true
   },
   "outputs": [
    {
     "data": {
      "text/plain": [
       "dict_keys(['__header__', '__version__', '__globals__', 'djc_eeg1', 'djc_eeg2', 'djc_eeg3', 'djc_eeg4', 'djc_eeg5', 'djc_eeg6', 'djc_eeg7', 'djc_eeg8', 'djc_eeg9', 'djc_eeg10', 'djc_eeg11', 'djc_eeg12', 'djc_eeg13', 'djc_eeg14', 'djc_eeg15'])"
      ]
     },
     "execution_count": 54,
     "metadata": {},
     "output_type": "execute_result"
    }
   ],
   "source": [
    "raw_data_path = './Data/SEED/Preprocessed_EEG/1/'\n",
    "skip_set = {'label.mat', 'readme.txt', '.DS_Store'}\n",
    "file = os.listdir(raw_data_path)\n",
    "subject = 1\n",
    "subfile_path = [i for i in file if i not in skip_set if subject == int(i.split('_')[0])][0]\n",
    "data = sio.loadmat(raw_data_path + subfile_path)\n",
    "eeg_keys = data.keys()\n",
    "eeg_keys"
   ]
  },
  {
   "cell_type": "code",
   "execution_count": 75,
   "metadata": {},
   "outputs": [
    {
     "name": "stdout",
     "output_type": "stream",
     "text": [
      "(62, 47001)\n",
      "Time len = 235.00\n",
      "(62, 235, 5)\n"
     ]
    }
   ],
   "source": [
    "fs = 200  #Hz\n",
    "subject = 1\n",
    "shape = data['djc_eeg{}'.format(subject)].shape\n",
    "print(shape)\n",
    "print('Time len = {:.2f}'.format(shape[1]/fs))\n",
    "###### Feature #####\n",
    "feature_path = './Data/SEED/1/'\n",
    "fea_data = sio.loadmat(feature_path+subfile_path)\n",
    "print(fea_data['de_LDS{}'.format(subject)].shape)"
   ]
  },
  {
   "cell_type": "code",
   "execution_count": 226,
   "metadata": {},
   "outputs": [
    {
     "name": "stdout",
     "output_type": "stream",
     "text": [
      "X.shape is: (62, 200)\n"
     ]
    },
    {
     "ename": "IndexError",
     "evalue": "index 62 is out of bounds for axis 0 with size 62",
     "output_type": "error",
     "traceback": [
      "\u001b[0;31m---------------------------------------------------------------------------\u001b[0m",
      "\u001b[0;31mIndexError\u001b[0m                                Traceback (most recent call last)",
      "\u001b[0;32m<ipython-input-226-e5a9f544d6d4>\u001b[0m in \u001b[0;36m<module>\u001b[0;34m\u001b[0m\n\u001b[1;32m     38\u001b[0m \u001b[0;31m# x = (x-min_x)/max_x\u001b[0m\u001b[0;34m\u001b[0m\u001b[0;34m\u001b[0m\u001b[0;34m\u001b[0m\u001b[0m\n\u001b[1;32m     39\u001b[0m \u001b[0;31m# x = (x-mean)/std\u001b[0m\u001b[0;34m\u001b[0m\u001b[0;34m\u001b[0m\u001b[0;34m\u001b[0m\u001b[0m\n\u001b[0;32m---> 40\u001b[0;31m \u001b[0mx_delta\u001b[0m\u001b[0;34m,\u001b[0m \u001b[0mx_theta\u001b[0m\u001b[0;34m,\u001b[0m \u001b[0mx_alpha\u001b[0m\u001b[0;34m,\u001b[0m \u001b[0mx_beta\u001b[0m\u001b[0;34m,\u001b[0m \u001b[0mx_gamma\u001b[0m \u001b[0;34m=\u001b[0m \u001b[0mSTFT\u001b[0m\u001b[0;34m(\u001b[0m\u001b[0mx\u001b[0m\u001b[0;34m,\u001b[0m \u001b[0mfs\u001b[0m\u001b[0;34m)\u001b[0m\u001b[0;34m\u001b[0m\u001b[0;34m\u001b[0m\u001b[0m\n\u001b[0m\u001b[1;32m     41\u001b[0m \u001b[0mprint\u001b[0m\u001b[0;34m(\u001b[0m\u001b[0mx_delta\u001b[0m\u001b[0;34m.\u001b[0m\u001b[0mshape\u001b[0m\u001b[0;34m)\u001b[0m\u001b[0;34m\u001b[0m\u001b[0;34m\u001b[0m\u001b[0m\n\u001b[1;32m     42\u001b[0m \u001b[0mfea\u001b[0m \u001b[0;34m=\u001b[0m \u001b[0mfea_data\u001b[0m\u001b[0;34m[\u001b[0m\u001b[0;34m'de_LDS{}'\u001b[0m\u001b[0;34m.\u001b[0m\u001b[0mformat\u001b[0m\u001b[0;34m(\u001b[0m\u001b[0msubject\u001b[0m\u001b[0;34m)\u001b[0m\u001b[0;34m]\u001b[0m\u001b[0;34m[\u001b[0m\u001b[0;36m0\u001b[0m\u001b[0;34m,\u001b[0m\u001b[0;36m0\u001b[0m\u001b[0;34m,\u001b[0m\u001b[0;34m:\u001b[0m\u001b[0;34m]\u001b[0m\u001b[0;34m\u001b[0m\u001b[0;34m\u001b[0m\u001b[0m\n",
      "\u001b[0;32m<ipython-input-226-e5a9f544d6d4>\u001b[0m in \u001b[0;36mSTFT\u001b[0;34m(epochsData, sfreq, band)\u001b[0m\n\u001b[1;32m     23\u001b[0m         \u001b[0mportion\u001b[0m \u001b[0;34m=\u001b[0m \u001b[0mnp\u001b[0m\u001b[0;34m.\u001b[0m\u001b[0mzeros\u001b[0m\u001b[0;34m(\u001b[0m\u001b[0mZxx\u001b[0m\u001b[0;34m.\u001b[0m\u001b[0mshape\u001b[0m\u001b[0;34m,\u001b[0m \u001b[0mdtype\u001b[0m\u001b[0;34m=\u001b[0m\u001b[0mnp\u001b[0m\u001b[0;34m.\u001b[0m\u001b[0mcomplex_\u001b[0m\u001b[0;34m)\u001b[0m\u001b[0;34m\u001b[0m\u001b[0;34m\u001b[0m\u001b[0m\n\u001b[1;32m     24\u001b[0m         \u001b[0;31m# 将有效频率赋值给新的参数矩阵\u001b[0m\u001b[0;34m\u001b[0m\u001b[0;34m\u001b[0m\u001b[0;34m\u001b[0m\u001b[0m\n\u001b[0;32m---> 25\u001b[0;31m         \u001b[0mportion\u001b[0m\u001b[0;34m[\u001b[0m\u001b[0mindex\u001b[0m\u001b[0;34m,\u001b[0m \u001b[0;34m:\u001b[0m\u001b[0;34m]\u001b[0m \u001b[0;34m=\u001b[0m \u001b[0mZxx\u001b[0m\u001b[0;34m[\u001b[0m\u001b[0mindex\u001b[0m\u001b[0;34m,\u001b[0m \u001b[0;34m:\u001b[0m\u001b[0;34m]\u001b[0m\u001b[0;34m\u001b[0m\u001b[0;34m\u001b[0m\u001b[0m\n\u001b[0m\u001b[1;32m     26\u001b[0m         \u001b[0;31m# 进行逆STFT变换，保留目标频率范围的信息\u001b[0m\u001b[0;34m\u001b[0m\u001b[0;34m\u001b[0m\u001b[0;34m\u001b[0m\u001b[0m\n\u001b[1;32m     27\u001b[0m         \u001b[0m_\u001b[0m\u001b[0;34m,\u001b[0m \u001b[0mxrec\u001b[0m \u001b[0;34m=\u001b[0m \u001b[0mss\u001b[0m\u001b[0;34m.\u001b[0m\u001b[0mistft\u001b[0m\u001b[0;34m(\u001b[0m\u001b[0mportion\u001b[0m\u001b[0;34m,\u001b[0m \u001b[0mfs\u001b[0m\u001b[0;34m=\u001b[0m\u001b[0msfreq\u001b[0m\u001b[0;34m)\u001b[0m\u001b[0;34m\u001b[0m\u001b[0;34m\u001b[0m\u001b[0m\n",
      "\u001b[0;31mIndexError\u001b[0m: index 62 is out of bounds for axis 0 with size 62"
     ]
    }
   ],
   "source": [
    "import scipy.signal as ss\n",
    "\n",
    "bandFreqs = [\n",
    "    {'name': 'Delta', 'fmin': 1, 'fmax': 3},\n",
    "    {'name': 'Theta', 'fmin': 4, 'fmax': 7},\n",
    "    {'name': 'Alpha', 'fmin': 8, 'fmax': 13},\n",
    "    {'name': 'Beta', 'fmin': 14, 'fmax': 31},\n",
    "    {'name': 'Gamma', 'fmin': 31, 'fmax': 50}\n",
    "]\n",
    "window_size = 200\n",
    "window = ss.windows.hann(window_size)\n",
    "\n",
    "def STFT(epochsData, sfreq, band=bandFreqs):\n",
    "    # 利用signal包进行STFT变换，f为频率，t为时间，Zxx为变换结果\n",
    "    f, t, Zxx = ss.stft(epochsData, fs=sfreq, window=window, nperseg=window_size, noverlap=None, nfft=256)\n",
    "    # 分频带保存STFT后的结果\n",
    "    bandResult = []\n",
    "    # 单独分析某一个频率范围\n",
    "    for iter_freq in band:\n",
    "        # 定位有效频率的索引\n",
    "        index = np.where((iter_freq['fmin'] < f) & (f < iter_freq['fmax']))\n",
    "        # 生成新的参数矩阵，初始化为复数元素为0\n",
    "        portion = np.zeros(Zxx.shape, dtype=np.complex_)\n",
    "        # 将有效频率赋值给新的参数矩阵\n",
    "        portion[index, :] = Zxx[index, :]\n",
    "        # 进行逆STFT变换，保留目标频率范围的信息\n",
    "        _, xrec = ss.istft(portion, fs=sfreq)\n",
    "        # 保存滤波后的结果\n",
    "        bandResult.append(xrec)\n",
    "    return bandResult\n",
    "\n",
    "x = data['djc_eeg{}'.format(subject)][:, :200]\n",
    "print('X.shape is:', x.shape)\n",
    "# mean = np.mean(x)\n",
    "# std = np.std(x)\n",
    "# min_x = np.min(x)\n",
    "# max_x = np.max(x)\n",
    "# x = (x-min_x)/max_x\n",
    "# x = (x-mean)/std\n",
    "x_delta, x_theta, x_alpha, x_beta, x_gamma = STFT(x, fs)\n",
    "print(x_delta.shape)\n",
    "fea = fea_data['de_LDS{}'.format(subject)][0,0,:]\n",
    "print(fea)\n",
    "print('x_delta shape is:', x_delta.shape)"
   ]
  },
  {
   "cell_type": "code",
   "execution_count": 202,
   "metadata": {},
   "outputs": [
    {
     "name": "stdout",
     "output_type": "stream",
     "text": [
      "8.218238569016512 7.779205809220175 8.24898402654139 8.621196095483695 11.350845734776644\n"
     ]
    }
   ],
   "source": [
    "import math\n",
    "de_delta = 1/2 * math.log(2*np.pi*np.e*np.sum(pow(x_delta, 2)))\n",
    "de_theta = 1/2 * np.log(2*np.pi*np.e*np.sum(pow(x_theta, 2)))\n",
    "de_alpha = 1/2 * np.log(2*np.pi*np.e*np.sum(pow(x_alpha, 2)))\n",
    "de_beta  = 1/2 * np.log(2*np.pi*np.e*np.sum(pow(x_beta , 2)))\n",
    "de_gamma = 1/2 * np.log(2*np.pi*np.e*np.sum(pow(x_gamma, 2)))\n",
    "print(de_delta, de_theta, de_alpha, de_beta, de_gamma)\n"
   ]
  },
  {
   "cell_type": "code",
   "execution_count": 198,
   "metadata": {},
   "outputs": [],
   "source": [
    "from scipy.signal import (butter, lfilter, filtfilt)\n",
    "from sklearn import preprocessing\n",
    "def butter_bandpass(lowcut, highcut, fs, order=5):\n",
    "    nyq = 0.5 * fs\n",
    "    low = lowcut / nyq\n",
    "    high = highcut / nyq\n",
    "    b, a = butter(order, [low, high], btype='band')\n",
    "    return b, a\n",
    "\n",
    "def butter_bandpass_filter(data, lowcut, highcut, fs, order=5):\n",
    "#     data = preprocessing.minmax_scale(data)\n",
    "    b, a = butter_bandpass(lowcut, highcut, fs, order=order)\n",
    "    y = lfilter(b, a, data)\n",
    "    return y"
   ]
  },
  {
   "cell_type": "code",
   "execution_count": 200,
   "metadata": {},
   "outputs": [
    {
     "name": "stdout",
     "output_type": "stream",
     "text": [
      "(200,)\n",
      "6.618718676694888 6.390627470581048 5.341068489693837 5.125735288784426 4.845949138127293\n"
     ]
    }
   ],
   "source": [
    "freq_delta = butter_bandpass_filter(x[0,:], 1, 3, fs)\n",
    "freq_theta = butter_bandpass_filter(x[0,:], 4, 8, fs)\n",
    "freq_alpha = butter_bandpass_filter(x[0,:], 8, 13, fs)\n",
    "freq_beta  = butter_bandpass_filter(x[0,:], 13, 30, fs)\n",
    "freq_gamma = butter_bandpass_filter(x[0,:], 30, 45, fs)\n",
    "print(freq_delta.shape)\n",
    "de_delta2 = 1/2 * math.log(2*np.pi*np.e*np.sum(pow(freq_delta, 2)))\n",
    "de_theta2 = 1/2 * np.log(2*np.pi*np.e*np.sum(pow(freq_theta, 2)))\n",
    "de_alpha2 = 1/2 * np.log(2*np.pi*np.e*np.sum(pow(freq_alpha, 2)))\n",
    "de_beta2  = 1/2 * np.log(2*np.pi*np.e*np.sum(pow(freq_beta , 2)))\n",
    "de_gamma2 = 1/2 * np.log(2*np.pi*np.e*np.sum(pow(freq_gamma, 2)))\n",
    "print(de_delta2, de_theta2, de_alpha2, de_beta2, de_gamma2)"
   ]
  },
  {
   "cell_type": "code",
   "execution_count": 242,
   "metadata": {},
   "outputs": [],
   "source": [
    "from scipy.fftpack import fft, ifft\n",
    "import math\n",
    "def DE_PSD(data, sampling_rate, freq_start, freq_end, fs, window_size):\n",
    "    # data (channel, time_len)\n",
    "    WindowPoints = fs * window_size\n",
    "\n",
    "    fStartNum = np.zeros([len(freq_start)], dtype=int)\n",
    "    fEndNum = np.zeros([len(freq_end)], dtype=int)\n",
    "    for i in range(0, len(freq_start)):\n",
    "        fStartNum[i] = int(freq_start[i] / fs * sampling_rate)\n",
    "        fEndNum[i] = int(freq_end[i] / fs * sampling_rate)\n",
    "\n",
    "    n = data.shape[0]\n",
    "    m = data.shape[1]\n",
    "\n",
    "    # print(m,n,l)\n",
    "    psd = np.zeros([n, len(freq_start)])\n",
    "    de = np.zeros([n, len(freq_start)])\n",
    "    # Hanning window\n",
    "    Hlength = window_size * fs\n",
    "    # Hwindow=hanning(Hlength)\n",
    "#     Hwindow = np.array([0.5 - 0.5 * np.cos(2 * np.pi * n / (Hlength)) for n in range(Hlength)])\n",
    "    Hwindow = ss.windows.hann(200)\n",
    "\n",
    "    WindowPoints = fs * window_size\n",
    "    dataNow = data[0:n]\n",
    "    for j in range(0, n):\n",
    "        temp = dataNow[j]\n",
    "        Hdata = temp * Hwindow\n",
    "        FFTdata = fft(Hdata, sampling_rate)\n",
    "        magFFTdata = abs(FFTdata[0:int(sampling_rate / 2)])\n",
    "        for p in range(0, len(freq_start)):\n",
    "            E = 0\n",
    "            # E_log = 0\n",
    "            for p0 in range(fStartNum[p], fEndNum[p] + 1):\n",
    "                E = E + magFFTdata[p0] * magFFTdata[p0]\n",
    "            #    E_log = E_log + log2(magFFTdata(p0)*magFFTdata(p0)+1)\n",
    "            E = E / (fEndNum[p] - fStartNum[p] + 1)\n",
    "            psd[j][p] = E\n",
    "            de[j][p] = math.log(100 * E, 2)\n",
    "            # de(j,i,p)=log2((1+E)^4)\n",
    "\n",
    "    return psd, de"
   ]
  },
  {
   "cell_type": "code",
   "execution_count": 239,
   "metadata": {},
   "outputs": [
    {
     "name": "stdout",
     "output_type": "stream",
     "text": [
      "(200,) [0.00000000e+00 2.49205437e-04 9.96573334e-04 2.24135870e-03\n",
      " 3.98232070e-03 6.21772392e-03 8.94534004e-03 1.21624501e-02\n",
      " 1.58658473e-02 2.00518399e-02 2.47162553e-02 2.98544439e-02\n",
      " 3.54612837e-02 4.15311859e-02 4.80580998e-02 5.50355191e-02\n",
      " 6.24564888e-02 7.03136113e-02 7.85990545e-02 8.73045594e-02\n",
      " 9.64214481e-02 1.05940633e-01 1.15852624e-01 1.26147542e-01\n",
      " 1.36815124e-01 1.47844737e-01 1.59225386e-01 1.70945726e-01\n",
      " 1.82994075e-01 1.95358422e-01 2.08026443e-01 2.20985509e-01\n",
      " 2.34222703e-01 2.47724830e-01 2.61478429e-01 2.75469793e-01\n",
      " 2.89684973e-01 3.04109799e-01 3.18729893e-01 3.33530681e-01\n",
      " 3.48497410e-01 3.63615159e-01 3.78868860e-01 3.94243307e-01\n",
      " 4.09723175e-01 4.25293032e-01 4.40937359e-01 4.56640561e-01\n",
      " 4.72386984e-01 4.88160933e-01 5.03946683e-01 5.19728500e-01\n",
      " 5.35490650e-01 5.51217422e-01 5.66893140e-01 5.82502177e-01\n",
      " 5.98028975e-01 6.13458054e-01 6.28774037e-01 6.43961655e-01\n",
      " 6.59005768e-01 6.73891381e-01 6.88603656e-01 7.03127926e-01\n",
      " 7.17449714e-01 7.31554743e-01 7.45428954e-01 7.59058515e-01\n",
      " 7.72429841e-01 7.85529604e-01 7.98344744e-01 8.10862488e-01\n",
      " 8.23070357e-01 8.34956183e-01 8.46508117e-01 8.57714644e-01\n",
      " 8.68564594e-01 8.79047150e-01 8.89151864e-01 8.98868663e-01\n",
      " 9.08187861e-01 9.17100168e-01 9.25596701e-01 9.33668990e-01\n",
      " 9.41308988e-01 9.48509079e-01 9.55262088e-01 9.61561281e-01\n",
      " 9.67400379e-01 9.72773563e-01 9.77675476e-01 9.82101231e-01\n",
      " 9.86046418e-01 9.89507103e-01 9.92479836e-01 9.94961655e-01\n",
      " 9.96950085e-01 9.98443145e-01 9.99439346e-01 9.99937695e-01\n",
      " 9.99937695e-01 9.99439346e-01 9.98443145e-01 9.96950085e-01\n",
      " 9.94961655e-01 9.92479836e-01 9.89507103e-01 9.86046418e-01\n",
      " 9.82101231e-01 9.77675476e-01 9.72773563e-01 9.67400379e-01\n",
      " 9.61561281e-01 9.55262088e-01 9.48509079e-01 9.41308988e-01\n",
      " 9.33668990e-01 9.25596701e-01 9.17100168e-01 9.08187861e-01\n",
      " 8.98868663e-01 8.89151864e-01 8.79047150e-01 8.68564594e-01\n",
      " 8.57714644e-01 8.46508117e-01 8.34956183e-01 8.23070357e-01\n",
      " 8.10862488e-01 7.98344744e-01 7.85529604e-01 7.72429841e-01\n",
      " 7.59058515e-01 7.45428954e-01 7.31554743e-01 7.17449714e-01\n",
      " 7.03127926e-01 6.88603656e-01 6.73891381e-01 6.59005768e-01\n",
      " 6.43961655e-01 6.28774037e-01 6.13458054e-01 5.98028975e-01\n",
      " 5.82502177e-01 5.66893140e-01 5.51217422e-01 5.35490650e-01\n",
      " 5.19728500e-01 5.03946683e-01 4.88160933e-01 4.72386984e-01\n",
      " 4.56640561e-01 4.40937359e-01 4.25293032e-01 4.09723175e-01\n",
      " 3.94243307e-01 3.78868860e-01 3.63615159e-01 3.48497410e-01\n",
      " 3.33530681e-01 3.18729893e-01 3.04109799e-01 2.89684973e-01\n",
      " 2.75469793e-01 2.61478429e-01 2.47724830e-01 2.34222703e-01\n",
      " 2.20985509e-01 2.08026443e-01 1.95358422e-01 1.82994075e-01\n",
      " 1.70945726e-01 1.59225386e-01 1.47844737e-01 1.36815124e-01\n",
      " 1.26147542e-01 1.15852624e-01 1.05940633e-01 9.64214481e-02\n",
      " 8.73045594e-02 7.85990545e-02 7.03136113e-02 6.24564888e-02\n",
      " 5.50355191e-02 4.80580998e-02 4.15311859e-02 3.54612837e-02\n",
      " 2.98544439e-02 2.47162553e-02 2.00518399e-02 1.58658473e-02\n",
      " 1.21624501e-02 8.94534004e-03 6.21772392e-03 3.98232070e-03\n",
      " 2.24135870e-03 9.96573334e-04 2.49205437e-04 0.00000000e+00]\n"
     ]
    }
   ],
   "source": [
    "window_size = 200\n",
    "window = ss.windows.hann(window_size)\n",
    "print(window.shape, window)"
   ]
  },
  {
   "cell_type": "code",
   "execution_count": 241,
   "metadata": {},
   "outputs": [
    {
     "name": "stdout",
     "output_type": "stream",
     "text": [
      "(200,) [0.00000000e+00 2.46719817e-04 9.86635786e-04 2.21901770e-03\n",
      " 3.94264934e-03 6.15582970e-03 8.85637464e-03 1.20416190e-02\n",
      " 1.57084194e-02 1.98531572e-02 2.44717419e-02 2.95596155e-02\n",
      " 3.51117571e-02 4.11226872e-02 4.75864738e-02 5.44967379e-02\n",
      " 6.18466600e-02 6.96289865e-02 7.78360372e-02 8.64597129e-02\n",
      " 9.54915028e-02 1.04922494e-01 1.14743379e-01 1.24944465e-01\n",
      " 1.35515686e-01 1.46446609e-01 1.57726447e-01 1.69344067e-01\n",
      " 1.81288005e-01 1.93546473e-01 2.06107374e-01 2.18958311e-01\n",
      " 2.32086603e-01 2.45479292e-01 2.59123163e-01 2.73004750e-01\n",
      " 2.87110354e-01 3.01426055e-01 3.15937724e-01 3.30631040e-01\n",
      " 3.45491503e-01 3.60504447e-01 3.75655056e-01 3.90928379e-01\n",
      " 4.06309343e-01 4.21782767e-01 4.37333383e-01 4.52945843e-01\n",
      " 4.68604740e-01 4.84294620e-01 5.00000000e-01 5.15705380e-01\n",
      " 5.31395260e-01 5.47054157e-01 5.62666617e-01 5.78217233e-01\n",
      " 5.93690657e-01 6.09071621e-01 6.24344944e-01 6.39495553e-01\n",
      " 6.54508497e-01 6.69368960e-01 6.84062276e-01 6.98573945e-01\n",
      " 7.12889646e-01 7.26995250e-01 7.40876837e-01 7.54520708e-01\n",
      " 7.67913397e-01 7.81041689e-01 7.93892626e-01 8.06453527e-01\n",
      " 8.18711995e-01 8.30655933e-01 8.42273553e-01 8.53553391e-01\n",
      " 8.64484314e-01 8.75055535e-01 8.85256621e-01 8.95077506e-01\n",
      " 9.04508497e-01 9.13540287e-01 9.22163963e-01 9.30371014e-01\n",
      " 9.38153340e-01 9.45503262e-01 9.52413526e-01 9.58877313e-01\n",
      " 9.64888243e-01 9.70440384e-01 9.75528258e-01 9.80146843e-01\n",
      " 9.84291581e-01 9.87958381e-01 9.91143625e-01 9.93844170e-01\n",
      " 9.96057351e-01 9.97780982e-01 9.99013364e-01 9.99753280e-01\n",
      " 1.00000000e+00 9.99753280e-01 9.99013364e-01 9.97780982e-01\n",
      " 9.96057351e-01 9.93844170e-01 9.91143625e-01 9.87958381e-01\n",
      " 9.84291581e-01 9.80146843e-01 9.75528258e-01 9.70440384e-01\n",
      " 9.64888243e-01 9.58877313e-01 9.52413526e-01 9.45503262e-01\n",
      " 9.38153340e-01 9.30371014e-01 9.22163963e-01 9.13540287e-01\n",
      " 9.04508497e-01 8.95077506e-01 8.85256621e-01 8.75055535e-01\n",
      " 8.64484314e-01 8.53553391e-01 8.42273553e-01 8.30655933e-01\n",
      " 8.18711995e-01 8.06453527e-01 7.93892626e-01 7.81041689e-01\n",
      " 7.67913397e-01 7.54520708e-01 7.40876837e-01 7.26995250e-01\n",
      " 7.12889646e-01 6.98573945e-01 6.84062276e-01 6.69368960e-01\n",
      " 6.54508497e-01 6.39495553e-01 6.24344944e-01 6.09071621e-01\n",
      " 5.93690657e-01 5.78217233e-01 5.62666617e-01 5.47054157e-01\n",
      " 5.31395260e-01 5.15705380e-01 5.00000000e-01 4.84294620e-01\n",
      " 4.68604740e-01 4.52945843e-01 4.37333383e-01 4.21782767e-01\n",
      " 4.06309343e-01 3.90928379e-01 3.75655056e-01 3.60504447e-01\n",
      " 3.45491503e-01 3.30631040e-01 3.15937724e-01 3.01426055e-01\n",
      " 2.87110354e-01 2.73004750e-01 2.59123163e-01 2.45479292e-01\n",
      " 2.32086603e-01 2.18958311e-01 2.06107374e-01 1.93546473e-01\n",
      " 1.81288005e-01 1.69344067e-01 1.57726447e-01 1.46446609e-01\n",
      " 1.35515686e-01 1.24944465e-01 1.14743379e-01 1.04922494e-01\n",
      " 9.54915028e-02 8.64597129e-02 7.78360372e-02 6.96289865e-02\n",
      " 6.18466600e-02 5.44967379e-02 4.75864738e-02 4.11226872e-02\n",
      " 3.51117571e-02 2.95596155e-02 2.44717419e-02 1.98531572e-02\n",
      " 1.57084194e-02 1.20416190e-02 8.85637464e-03 6.15582970e-03\n",
      " 3.94264934e-03 2.21901770e-03 9.86635786e-04 2.46719817e-04]\n"
     ]
    }
   ],
   "source": [
    "Hwindow = np.array([0.5 - 0.5 * np.cos(2 * np.pi * n / (200)) for n in range(200)])\n",
    "print(Hwindow.shape, Hwindow)"
   ]
  },
  {
   "cell_type": "code",
   "execution_count": 243,
   "metadata": {},
   "outputs": [
    {
     "data": {
      "text/plain": [
       "(100,)"
      ]
     },
     "execution_count": 243,
     "metadata": {},
     "output_type": "execute_result"
    }
   ],
   "source": [
    "Hwindow = np.array([0.5 - 0.5 * np.cos(2 * np.pi * n / (200)) for n in range(200)])\n",
    "Hdata = x[0] * Hwindow\n",
    "FFTdata = fft(Hdata, 200)\n",
    "magFFTdata = abs(FFTdata[0:int(200 / 2)])\n",
    "magFFTdata.shape"
   ]
  },
  {
   "cell_type": "code",
   "execution_count": 244,
   "metadata": {},
   "outputs": [
    {
     "data": {
      "text/plain": [
       "1.0"
      ]
     },
     "execution_count": 244,
     "metadata": {},
     "output_type": "execute_result"
    }
   ],
   "source": [
    "math.log(np.e)"
   ]
  },
  {
   "cell_type": "code",
   "execution_count": 245,
   "metadata": {},
   "outputs": [
    {
     "name": "stdout",
     "output_type": "stream",
     "text": [
      "[28.2134122  23.35981044 20.51525207 18.16684024 17.0527004 ]\n"
     ]
    },
    {
     "data": {
      "text/plain": [
       "array([[28.42189368, 26.21534653, 22.32074469, 18.63286666, 17.83603268],\n",
       "       [28.94130775, 26.01560886, 22.36021671, 18.50639278, 17.48342357],\n",
       "       [28.08943463, 25.71443695, 22.1203526 , 18.82885142, 18.2464047 ],\n",
       "       [27.54936505, 24.91320234, 21.38001658, 18.13958085, 16.40900405],\n",
       "       [26.9345524 , 24.20090391, 21.13177496, 17.90195125, 18.14458187],\n",
       "       [27.14344736, 24.79913102, 20.97939017, 18.37333642, 17.55422731],\n",
       "       [26.17935617, 24.04725724, 20.28534572, 18.74619271, 16.8494314 ],\n",
       "       [25.90014528, 23.43523318, 20.08095258, 18.04772267, 15.74409654],\n",
       "       [26.63512574, 22.99412741, 19.79598641, 17.39955298, 15.32292997],\n",
       "       [24.73970175, 22.33809601, 19.78312521, 17.16125329, 15.30945744],\n",
       "       [25.22177722, 21.85166695, 19.30823726, 16.41018371, 15.71520001],\n",
       "       [24.25677791, 21.60420389, 18.54426422, 17.44586708, 16.66906622],\n",
       "       [24.03515515, 21.36040633, 18.43343205, 18.58384709, 17.36758814],\n",
       "       [24.7591747 , 21.38989087, 18.44644903, 19.23086099, 17.73899191],\n",
       "       [26.49656817, 23.09437914, 20.1446759 , 18.19800903, 17.30443635],\n",
       "       [25.37168595, 22.47721833, 18.97562422, 18.14537184, 16.11774012],\n",
       "       [25.52919896, 20.34872274, 19.0135197 , 17.1444169 , 15.4110154 ],\n",
       "       [23.48893117, 21.2120722 , 18.27635806, 16.86884509, 15.00728568],\n",
       "       [23.10973587, 19.93918336, 17.96586481, 15.96159733, 14.39640021],\n",
       "       [21.56211708, 19.64622033, 17.44043131, 15.31998521, 14.45008499],\n",
       "       [23.09768832, 19.11692039, 16.66816026, 16.84308298, 15.19199387],\n",
       "       [22.20143017, 18.83133649, 17.33115552, 17.93958582, 16.71337961],\n",
       "       [25.71187153, 19.89003192, 17.6311243 , 20.27555251, 20.08688594],\n",
       "       [24.10736412, 20.72041919, 20.09288031, 19.92295875, 18.49897821],\n",
       "       [23.77183713, 20.42211892, 18.85386367, 18.02217142, 16.51919847],\n",
       "       [23.37365546, 19.55355545, 17.04079159, 16.64662488, 14.95577312],\n",
       "       [24.09955651, 19.84360273, 17.74744195, 17.344906  , 17.09993115],\n",
       "       [16.67149372, 13.88413361, 15.24061923, 13.83065605, 12.20672411],\n",
       "       [25.31023867, 17.30817654, 17.35793788, 15.17917132, 14.98825787],\n",
       "       [23.78189599, 18.21024217, 17.37251231, 16.12990298, 14.92626593],\n",
       "       [23.41347277, 18.46086058, 17.10082781, 17.500776  , 16.13004294],\n",
       "       [26.7285786 , 19.67297164, 19.21540373, 19.33538472, 18.10978156],\n",
       "       [27.94449949, 20.5209457 , 20.77422236, 20.19992606, 18.34042493],\n",
       "       [22.70930123, 19.29379802, 19.75563857, 18.43868079, 15.83497887],\n",
       "       [19.63710826, 18.22649535, 18.11120498, 17.38005254, 14.59019717],\n",
       "       [19.22977047, 16.18709435, 16.61101925, 15.92995484, 13.94721011],\n",
       "       [22.94742179, 18.12505005, 16.01519149, 15.21764413, 13.59790721],\n",
       "       [21.17111592, 16.91574066, 17.14590727, 16.16943839, 14.5065325 ],\n",
       "       [21.87698305, 18.04481796, 17.52921854, 16.81588747, 14.90322778],\n",
       "       [25.33957292, 20.08781618, 18.34030332, 18.08008012, 15.81889944],\n",
       "       [25.08160763, 20.95191077, 18.86434483, 18.16638018, 16.26841205],\n",
       "       [24.0579414 , 21.05488998, 21.08773406, 19.00627886, 16.54166888],\n",
       "       [22.91550921, 19.85779856, 20.57308829, 18.82028324, 15.93518305],\n",
       "       [20.12006789, 18.4628565 , 19.23456299, 18.07677579, 15.14071624],\n",
       "       [37.5652273 , 34.48362269, 33.21297534, 31.35618028, 30.96101182],\n",
       "       [23.06275835, 19.01312694, 17.89933302, 17.08409422, 15.30599188],\n",
       "       [20.30922385, 18.49982104, 18.14389761, 16.58241289, 15.52705518],\n",
       "       [22.75792102, 19.24684072, 18.49977362, 17.12748891, 15.6722569 ],\n",
       "       [23.48387708, 20.13701024, 18.96899271, 18.25741943, 16.13922745],\n",
       "       [24.37112819, 21.33587299, 19.36720417, 18.65748339, 16.63360661],\n",
       "       [23.84628983, 21.61126337, 20.96424479, 19.16538465, 16.85115802],\n",
       "       [25.40296177, 21.32871563, 20.72449316, 18.7384638 , 16.63406587],\n",
       "       [23.42822495, 20.47052353, 20.07614513, 18.93135088, 16.56926955],\n",
       "       [23.04680016, 20.72310071, 18.92542768, 18.56483939, 15.72250158],\n",
       "       [24.52380295, 20.89416303, 19.49472984, 18.17522625, 15.67232233],\n",
       "       [25.40508097, 19.19847969, 15.83346047, 15.02592036, 13.88324032],\n",
       "       [23.57162197, 21.67216987, 19.90542688, 19.38982285, 18.11935861],\n",
       "       [24.341257  , 22.38334435, 20.56365268, 19.64077125, 18.13785447],\n",
       "       [24.75746411, 21.73942203, 20.49972087, 19.61245591, 18.26879047],\n",
       "       [24.23025998, 22.00667172, 19.95685731, 18.77168837, 17.14292746],\n",
       "       [24.38641532, 21.77712466, 20.18429566, 18.8841292 , 16.52803098],\n",
       "       [25.57619991, 22.51714747, 20.45007412, 18.67597792, 16.82669613]])"
      ]
     },
     "execution_count": 245,
     "metadata": {},
     "output_type": "execute_result"
    }
   ],
   "source": [
    "# x = np.array(x)\n",
    "# print(x.shape)\n",
    "fea = fea_data['de_LDS{}'.format(subject)][0,0,:]\n",
    "print(fea)\n",
    "psd, de = DE_PSD(x, 200, [1,4,8,14,31], [3, 7, 13, 30, 50], 200, 1)\n",
    "de"
   ]
  },
  {
   "cell_type": "code",
   "execution_count": 20,
   "metadata": {},
   "outputs": [
    {
     "name": "stdout",
     "output_type": "stream",
     "text": [
      "2010\n"
     ]
    },
    {
     "data": {
      "text/plain": [
       "(19.571266207237283, 3.6026486814360323)"
      ]
     },
     "execution_count": 20,
     "metadata": {},
     "output_type": "execute_result"
    }
   ],
   "source": [
    "subject = 6\n",
    "session = 3\n",
    "Train_Data, Test_Data, Train_Label, Test_Label = SD_process(subject, session, label)\n",
    "print(len(Train_Data))\n",
    "mean1 = np.mean(Train_Data)\n",
    "std1 = np.std(Train_Data)\n",
    "mean1, std1"
   ]
  },
  {
   "cell_type": "code",
   "execution_count": 33,
   "metadata": {},
   "outputs": [
    {
     "name": "stdout",
     "output_type": "stream",
     "text": [
      "session:1-subject1: 20.1635, 4.2968, 20.0925, 4.4550\n",
      "session:1-subject2: 19.3579, 3.5650, 19.3435, 3.6236\n",
      "session:1-subject3: 19.8211, 3.7146, 19.5956, 3.4072\n",
      "session:1-subject4: 19.0862, 2.8046, 19.1598, 2.8837\n",
      "session:1-subject5: 19.3953, 3.2430, 19.4061, 3.3087\n",
      "session:1-subject6: 19.5528, 4.0415, 19.4478, 4.1844\n",
      "session:1-subject7: 20.3834, 3.3099, 20.3858, 3.4671\n",
      "session:1-subject8: 20.4272, 3.2744, 20.6110, 3.1205\n",
      "session:1-subject9: 19.2624, 3.2563, 19.2272, 3.2458\n",
      "session:1-subject10: 20.3331, 3.4835, 20.2850, 3.4990\n",
      "session:1-subject11: 19.2867, 3.2990, 19.1865, 3.2557\n",
      "session:1-subject12: 20.2775, 3.0499, 20.3030, 3.1086\n",
      "session:1-subject13: 20.4456, 2.8753, 20.4531, 2.9417\n",
      "session:1-subject14: 19.6924, 3.3898, 19.7003, 3.4419\n",
      "session:1-subject15: 21.8670, 5.4302, 21.8163, 5.4450\n",
      "session:2-subject1: 20.1355, 3.7255, 20.0839, 3.8038\n",
      "session:2-subject2: 19.8681, 3.6481, 19.8871, 3.6584\n",
      "session:2-subject3: 19.6824, 3.4602, 19.6103, 3.2578\n",
      "session:2-subject4: 19.2001, 2.8691, 19.3553, 2.7900\n",
      "session:2-subject5: 19.5516, 3.1750, 19.5799, 3.2354\n",
      "session:2-subject6: 19.3689, 3.7985, 19.3773, 3.8374\n",
      "session:2-subject7: 20.2333, 3.1430, 20.1623, 3.2389\n",
      "session:2-subject8: 20.4241, 3.4782, 20.3569, 3.2600\n",
      "session:2-subject9: 18.7905, 3.2476, 18.9065, 3.1425\n",
      "session:2-subject10: 20.7174, 3.5024, 20.6368, 3.5820\n",
      "session:2-subject11: 19.2384, 3.0784, 19.2352, 3.1343\n",
      "session:2-subject12: 20.3275, 3.0085, 20.5587, 2.9711\n",
      "session:2-subject13: 19.7485, 2.9562, 19.6967, 2.9539\n",
      "session:2-subject14: 19.6346, 3.1800, 19.4384, 3.0133\n",
      "session:2-subject15: 20.5303, 3.5390, 20.6169, 3.5586\n",
      "session:3-subject1: 19.7177, 3.7826, 19.7811, 3.7686\n",
      "session:3-subject2: 19.3462, 3.3641, 19.3690, 3.3739\n",
      "session:3-subject3: 19.4196, 3.2541, 19.3698, 3.2549\n",
      "session:3-subject4: 19.2292, 3.2860, 19.1115, 2.9678\n",
      "session:3-subject5: 19.0895, 3.1439, 19.1288, 3.1066\n",
      "session:3-subject6: 19.5713, 3.6026, 19.5495, 3.6234\n",
      "session:3-subject7: 20.2534, 3.1578, 20.2312, 3.1994\n",
      "session:3-subject8: 20.3889, 3.2161, 20.2460, 3.0472\n",
      "session:3-subject9: 19.0624, 3.0748, 19.1834, 3.1052\n",
      "session:3-subject10: 20.6549, 3.3386, 20.4670, 3.4765\n",
      "session:3-subject11: 19.4913, 3.1854, 19.4427, 3.1976\n",
      "session:3-subject12: 20.4185, 3.3941, 20.7333, 3.3459\n",
      "session:3-subject13: 20.1507, 2.9820, 20.2758, 2.9395\n",
      "session:3-subject14: 19.1348, 2.9186, 19.0367, 2.8808\n",
      "session:3-subject15: 20.2831, 3.3088, 20.2242, 3.3764\n"
     ]
    }
   ],
   "source": [
    "for session in range(1, 4):\n",
    "    for subject in range(1, 16):\n",
    "        Train_Data, Test_Data, Train_Label, Test_Label = SD_process(subject, session, label)\n",
    "        mean_train = np.mean(Train_Data)\n",
    "        std_train = np.std(Train_Data)\n",
    "        mean_val = np.mean(Test_Data)\n",
    "        std_val = np.std(Test_Data)\n",
    "        \n",
    "        print('session:{}-subject{}: {:.4f}, {:.4f}, {:.4f}, {:.4f}'.format(session, subject, mean_train, std_train, mean_val, std_val))"
   ]
  },
  {
   "cell_type": "code",
   "execution_count": 2,
   "metadata": {},
   "outputs": [
    {
     "name": "stderr",
     "output_type": "stream",
     "text": [
      "DGL backend not selected or invalid.  Assuming PyTorch for now.\n"
     ]
    },
    {
     "name": "stdout",
     "output_type": "stream",
     "text": [
      "Setting the default backend to \"pytorch\". You can change it in the ~/.dgl/config.json file or export the DGLBACKEND environment variable.  Valid options are: pytorch, mxnet, tensorflow (all lowercase)\n"
     ]
    },
    {
     "name": "stderr",
     "output_type": "stream",
     "text": [
      "Using backend: pytorch\n"
     ]
    }
   ],
   "source": [
    "import torch\n",
    "import dgl"
   ]
  },
  {
   "cell_type": "code",
   "execution_count": 3,
   "metadata": {},
   "outputs": [],
   "source": [
    "u, v = torch.tensor([0, 0, 0, 1]), torch.tensor([1,2,3,3])\n",
    "g = dgl.graph((u, v))"
   ]
  },
  {
   "cell_type": "code",
   "execution_count": 4,
   "metadata": {},
   "outputs": [
    {
     "name": "stdout",
     "output_type": "stream",
     "text": [
      "Graph(num_nodes=4, num_edges=4,\n",
      "      ndata_schemes={}\n",
      "      edata_schemes={})\n"
     ]
    }
   ],
   "source": [
    "print(g)"
   ]
  },
  {
   "cell_type": "code",
   "execution_count": 5,
   "metadata": {},
   "outputs": [
    {
     "name": "stdout",
     "output_type": "stream",
     "text": [
      "tensor([0, 1, 2, 3])\n"
     ]
    }
   ],
   "source": [
    "print(g.nodes())"
   ]
  },
  {
   "cell_type": "code",
   "execution_count": 7,
   "metadata": {},
   "outputs": [
    {
     "name": "stdout",
     "output_type": "stream",
     "text": [
      "(tensor([0, 0, 0, 1]), tensor([1, 2, 3, 3]))\n"
     ]
    }
   ],
   "source": [
    "print(g.edges())"
   ]
  },
  {
   "cell_type": "code",
   "execution_count": 8,
   "metadata": {},
   "outputs": [
    {
     "name": "stdout",
     "output_type": "stream",
     "text": [
      "(tensor([0, 0, 0, 1]), tensor([1, 2, 3, 3]), tensor([0, 1, 2, 3]))\n"
     ]
    }
   ],
   "source": [
    "print(g.edges(form='all'))"
   ]
  },
  {
   "cell_type": "code",
   "execution_count": 11,
   "metadata": {},
   "outputs": [
    {
     "name": "stdout",
     "output_type": "stream",
     "text": [
      "Graph(num_nodes=4, num_edges=4,\n",
      "      ndata_schemes={}\n",
      "      edata_schemes={'count': Scheme(shape=(), dtype=torch.int64)})\n"
     ]
    }
   ],
   "source": [
    "g = g.to_simple()\n",
    "print(g)"
   ]
  },
  {
   "cell_type": "code",
   "execution_count": 15,
   "metadata": {},
   "outputs": [
    {
     "name": "stdout",
     "output_type": "stream",
     "text": [
      "Graph(num_nodes=4, num_edges=8,\n",
      "      ndata_schemes={}\n",
      "      edata_schemes={})\n"
     ]
    },
    {
     "data": {
      "text/plain": [
       "(None, (tensor([0, 0, 0, 1, 1, 2, 3, 3]), tensor([1, 2, 3, 0, 3, 0, 0, 1])))"
      ]
     },
     "execution_count": 15,
     "metadata": {},
     "output_type": "execute_result"
    }
   ],
   "source": [
    "bg = dgl.to_bidirected(g)\n",
    "print(bg), bg.edges()"
   ]
  },
  {
   "cell_type": "code",
   "execution_count": null,
   "metadata": {},
   "outputs": [],
   "source": []
  }
 ],
 "metadata": {
  "kernelspec": {
   "display_name": "py36",
   "language": "python",
   "name": "torch"
  },
  "language_info": {
   "codemirror_mode": {
    "name": "ipython",
    "version": 3
   },
   "file_extension": ".py",
   "mimetype": "text/x-python",
   "name": "python",
   "nbconvert_exporter": "python",
   "pygments_lexer": "ipython3",
   "version": "3.6.10"
  }
 },
 "nbformat": 4,
 "nbformat_minor": 4
}
